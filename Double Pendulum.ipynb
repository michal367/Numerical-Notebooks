{
 "cells": [
  {
   "cell_type": "markdown",
   "metadata": {},
   "source": [
    "# Double Pendulum"
   ]
  },
  {
   "cell_type": "markdown",
   "metadata": {},
   "source": [
    "The following equations were used to simulate a double pendulum (they are derived here: https://www.math24.net/double-pendulum/)  \n",
    "Notation:  \n",
    "$l_1$, $l_2$ - bar lengths  \n",
    "$m_1$, $m_2$ - mass of balls  \n",
    "$\\alpha_1$, $\\alpha_2$ - angular position (angles between bar and vertical)  \n",
    "$p_1$, $p_2$ - momentum of balls  \n",
    "$\\dot{\\alpha_1}$, $\\dot{\\alpha_2}$ - angular velocity (derivative of the angular position over time)  \n",
    "$\\dot{p_1}$, $\\dot{p_2}$ - time derivative of momentum  \n",
    "$g$ - gravitational acceleration"
   ]
  },
  {
   "cell_type": "markdown",
   "metadata": {},
   "source": [
    "$$\n",
    "\\left\\{\\begin{matrix}\n",
    "\\begin{align*}\n",
    "& \\dot{\\alpha_1} = \\frac{p_1l_2-p_2l_1cos(\\alpha_1-\\alpha_2)}{l_1^2l_2(m_1+m_2sin^2(\\alpha_1-\\alpha_2))}\n",
    "\\\\\n",
    "\\\\ & \\dot{\\alpha_2} = \\frac{p_2(m_1+m_2)l_1-p_1m_2l_2cos(\\alpha_1-\\alpha_2)}{m_2l_1l_2^2(m_1+m_2sin^2(\\alpha_1-\\alpha_2))}\n",
    "\\\\\n",
    "\\\\ & \\dot{p_1} = -(m_1+m_2)gl_1sin(\\alpha_1) - A_1 + A_2\n",
    "\\\\\n",
    "\\\\ & \\dot{p_2} = -m_2gl_2sin(\\alpha_2) + A_1 - A_2\n",
    "\\end{align*}\n",
    "\\end{matrix}\\right.\n",
    "$$"
   ]
  },
  {
   "cell_type": "markdown",
   "metadata": {},
   "source": [
    "where:"
   ]
  },
  {
   "cell_type": "markdown",
   "metadata": {},
   "source": [
    "$$\n",
    "A_1 = \\frac{p_1p_2sin(\\alpha_1-\\alpha_2)}{l_1l_2(m_1+m_2sin^2(\\alpha_1-\\alpha_2))}\n",
    "$$"
   ]
  },
  {
   "cell_type": "markdown",
   "metadata": {},
   "source": [
    "$$\n",
    "A_2 = \\frac{(p_1^2m_2l_2^2-2p_1p_2m_2l_1l_2cos(\\alpha_1-\\alpha_2)+p_2^2(m_1+m_2)l_1^2)sin(2(\\alpha_1-\\alpha_2))}{2l_1^2l_2^2(m_1+m_2sin^2(\\alpha_1-\\alpha_2))^2}\n",
    "$$"
   ]
  },
  {
   "cell_type": "markdown",
   "metadata": {},
   "source": [
    "The above system of equations can be written as"
   ]
  },
  {
   "cell_type": "markdown",
   "metadata": {},
   "source": [
    "${\\mathbf{Z}}' = \\mathbf{f}(\\mathbf{Z})$  \n",
    "\n",
    "where  \n",
    "$\\mathbf{Z} = (\\alpha_1, \\alpha_2, p_1, p_2)^T$  \n",
    "$\\mathbf{f} = (f_1, f_2, f_3, f_4)^T$"
   ]
  },
  {
   "cell_type": "markdown",
   "metadata": {},
   "source": [
    "The vector f corresponds to the functions on the right side of the system of equations."
   ]
  },
  {
   "cell_type": "markdown",
   "metadata": {},
   "source": [
    "These equations cannot be solved analytically. That's why we will calculate successive values numerically using the Runge-Kutta algorithm of the 4th order (RK4). This algorithm performs the following calculations:"
   ]
  },
  {
   "cell_type": "markdown",
   "metadata": {},
   "source": [
    "$\\mathbf{Z_{n+1}} = \\mathbf{Z_n} + \\frac{1}{6}(\\mathbf{Y_1}+2\\mathbf{Y_2}+2\\mathbf{Y_3}+\\mathbf{Y_4})$  "
   ]
  },
  {
   "cell_type": "markdown",
   "metadata": {},
   "source": [
    "$\\mathbf{Y_1} = h*\\mathbf{f}(\\mathbf{Z_n})$  \n",
    "$\\mathbf{Y_2} = h*\\mathbf{f}(\\mathbf{Z_n} + \\frac{1}{2}\\mathbf{Y_1})$  \n",
    "$\\mathbf{Y_3} = h*\\mathbf{f}(\\mathbf{Z_n} + \\frac{1}{2}\\mathbf{Y_2})$  \n",
    "$\\mathbf{Y_4} = h*\\mathbf{f}(\\mathbf{Z_n} + \\mathbf{Y_3})$  "
   ]
  },
  {
   "cell_type": "markdown",
   "metadata": {},
   "source": [
    "$h$ - step size"
   ]
  },
  {
   "cell_type": "markdown",
   "metadata": {},
   "source": [
    "$Z_0$ are initial values."
   ]
  },
  {
   "cell_type": "markdown",
   "metadata": {},
   "source": [
    "### Video showing the effect \n",
    "https://www.youtube.com/watch?v=__Vkw7a9Ntk"
   ]
  },
  {
   "cell_type": "markdown",
   "metadata": {},
   "source": [
    "## Implementation"
   ]
  },
  {
   "cell_type": "code",
   "execution_count": 1,
   "metadata": {},
   "outputs": [],
   "source": [
    "from ipycanvas import Canvas, hold_canvas\n",
    "from ipycanvas import MultiCanvas, hold_canvas\n",
    "from ipywidgets import interact, IntSlider, FloatSlider\n",
    "import ipywidgets as widgets\n",
    "from threading import Thread\n",
    "from time import sleep\n",
    "import numpy as np"
   ]
  },
  {
   "cell_type": "markdown",
   "metadata": {},
   "source": [
    "### Functions from the system of equations"
   ]
  },
  {
   "cell_type": "code",
   "execution_count": 2,
   "metadata": {},
   "outputs": [],
   "source": [
    "def f1(l1,l2, m1,m2, alpha1,alpha2, p1,p2):\n",
    "    return (p1*l2 - p2*l1*np.cos(alpha1-alpha2))/(l1*l1*l2*(m1+m2*(np.sin(alpha1-alpha2))**2))\n",
    "\n",
    "def f2(l1,l2, m1,m2, alpha1,alpha2, p1,p2):\n",
    "    return (p2*(m1+m2)*l1 - p1*m2*l2*np.cos(alpha1-alpha2))/(m2*l1*l2*l2*(m1+m2*(np.sin(alpha1-alpha2))**2))\n",
    "\n",
    "def f3(l1,l2, m1,m2, alpha1,alpha2, p1,p2, g):\n",
    "    a1 = (p1*p2*np.sin(alpha1-alpha2))/(l1*l2*(m1+m2*(np.sin(alpha1-alpha2))**2))\n",
    "    a2 = ((p1*p1*m2*l2*l2 - 2*p1*p2*m2*l1*l2*np.cos(alpha1-alpha2) + p2*p2*(m1+m2)*l1*l1)*np.sin(2*(alpha1-alpha2)))/(2*l1*l1*l2*l2*(m1+m2*(np.sin(alpha1-alpha2))**2)**2)\n",
    "    \n",
    "    return -(m1+m2)*g*l1*np.sin(alpha1) - a1 + a2\n",
    "\n",
    "def f4(l1,l2, m1,m2, alpha1,alpha2, p1,p2, g):\n",
    "    a1 = (p1*p2*np.sin(alpha1-alpha2))/(l1*l2*(m1+m2*(np.sin(alpha1-alpha2))**2))\n",
    "    a2 = ((p1*p1*m2*l2*l2 - 2*p1*p2*m2*l1*l2*np.cos(alpha1-alpha2) + p2*p2*(m1+m2)*l1*l1)*np.sin(2*(alpha1-alpha2)))/(2*l1*l1*l2*l2*(m1+m2*(np.sin(alpha1-alpha2))**2)**2)\n",
    "    \n",
    "    return -m2*g*l2*np.sin(alpha2) + a1 - a2\n"
   ]
  },
  {
   "cell_type": "markdown",
   "metadata": {},
   "source": [
    "### Runge-Kutta 4th order algorithm (RK4)"
   ]
  },
  {
   "cell_type": "code",
   "execution_count": 3,
   "metadata": {},
   "outputs": [],
   "source": [
    "def runge_kutta(zn, h, l1,l2, m1,m2, g):\n",
    "    y1 = h*np.array([\n",
    "        f1(l1,l2, m1,m2, zn[0], zn[1], zn[2], zn[3]),\n",
    "        f2(l1,l2, m1,m2, zn[0], zn[1], zn[2], zn[3]),\n",
    "        f3(l1,l2, m1,m2, zn[0], zn[1], zn[2], zn[3], g),\n",
    "        f4(l1,l2, m1,m2, zn[0], zn[1], zn[2], zn[3], g)\n",
    "    ])\n",
    "    \n",
    "    zn2 = zn + y1/2\n",
    "    y2 = h*np.array([\n",
    "        f1(l1,l2, m1,m2, zn2[0], zn2[1], zn2[2], zn2[3]),\n",
    "        f2(l1,l2, m1,m2, zn2[0], zn2[1], zn2[2], zn2[3]),\n",
    "        f3(l1,l2, m1,m2, zn2[0], zn2[1], zn2[2], zn2[3], g),\n",
    "        f4(l1,l2, m1,m2, zn2[0], zn2[1], zn2[2], zn2[3], g)\n",
    "    ])\n",
    "\n",
    "    zn3 = zn + y2/2\n",
    "    y3 = h*np.array([\n",
    "        f1(l1,l2, m1,m2, zn3[0], zn3[1], zn3[2], zn3[3]),\n",
    "        f2(l1,l2, m1,m2, zn3[0], zn3[1], zn3[2], zn3[3]),\n",
    "        f3(l1,l2, m1,m2, zn3[0], zn3[1], zn3[2], zn3[3], g),\n",
    "        f4(l1,l2, m1,m2, zn3[0], zn3[1], zn3[2], zn3[3], g)\n",
    "    ])\n",
    "    \n",
    "    zn4 = zn + y3\n",
    "    y4 = h*np.array([\n",
    "        f1(l1,l2, m1,m2, zn4[0], zn4[1], zn4[2], zn4[3]),\n",
    "        f2(l1,l2, m1,m2, zn4[0], zn4[1], zn4[2], zn4[3]),\n",
    "        f3(l1,l2, m1,m2, zn4[0], zn4[1], zn4[2], zn4[3], g),\n",
    "        f4(l1,l2, m1,m2, zn4[0], zn4[1], zn4[2], zn4[3], g)\n",
    "    ])\n",
    "    \n",
    "    return zn + (y1+2*y2+2*y3+y4)/6"
   ]
  },
  {
   "cell_type": "markdown",
   "metadata": {},
   "source": [
    "### Double pendulum class"
   ]
  },
  {
   "cell_type": "code",
   "execution_count": 4,
   "metadata": {},
   "outputs": [],
   "source": [
    "class DoublePendulum():\n",
    "    def __init__(self, canvas, l1,l2, m1,m2, alpha1,alpha2, p1,p2, g, h):\n",
    "        self.canvas = canvas\n",
    "        self.l1 = l1\n",
    "        self.l2 = l2\n",
    "        self.m1 = m1\n",
    "        self.m2 = m2\n",
    "        self.alpha1 = alpha1\n",
    "        self.alpha2 = alpha2\n",
    "        self.p1 = p1\n",
    "        self.p2 = p2\n",
    "        self.g = g\n",
    "        self.h = h\n",
    "        \n",
    "        self.r1 = np.sqrt(self.m1/np.pi) * 10\n",
    "        self.r2 = np.sqrt(self.m2/np.pi) * 10\n",
    "    \n",
    "    def set_params(self, l1,l2, m1,m2, alpha1,alpha2, p1,p2, g, h):\n",
    "        self.l1 = l1\n",
    "        self.l2 = l2\n",
    "        self.m1 = m1\n",
    "        self.m2 = m2\n",
    "        self.alpha1 = alpha1\n",
    "        self.alpha2 = alpha2\n",
    "        self.p1 = p1\n",
    "        self.p2 = p2\n",
    "        self.g = g\n",
    "        self.h = h\n",
    "        \n",
    "        self.r1 = np.sqrt(self.m1/np.pi) * 10\n",
    "        self.r2 = np.sqrt(self.m2/np.pi) * 10\n",
    "        \n",
    "        \n",
    "    def draw_background(self):\n",
    "        canvas = self.canvas[0]\n",
    "        canvas.fill_style = \"black\"\n",
    "        canvas.fill_rect(0, 0, canvas.width, canvas.height)\n",
    "    \n",
    "    def draw_pendulum(self):\n",
    "        dx = self.l1*np.sin(self.alpha1)\n",
    "        dy = self.l1*np.cos(self.alpha1)\n",
    "\n",
    "        dx2 = dx + self.l2*np.sin(self.alpha2)\n",
    "        dy2 = dy + self.l2*np.cos(self.alpha2)\n",
    "        \n",
    "        canvas = self.canvas[2]\n",
    "        with hold_canvas(canvas):\n",
    "            canvas.clear()\n",
    "\n",
    "            # lines\n",
    "            canvas.stroke_style = \"white\"\n",
    "            canvas.line_width = 2\n",
    "            canvas.begin_path()\n",
    "            canvas.move_to(canvas.width/2, canvas.height/2)\n",
    "            canvas.line_to(canvas.width/2 + dx, canvas.height/2 + dy)\n",
    "            canvas.line_to(canvas.width/2 + dx2, canvas.height/2 + dy2)\n",
    "            canvas.stroke()\n",
    "            \n",
    "            # center point\n",
    "            canvas.fill_style = \"red\"\n",
    "            canvas.fill_arc(canvas.width/2, canvas.height/2, 5, 0, np.pi * 2)\n",
    "\n",
    "            # circles\n",
    "            canvas.fill_style = \"green\"\n",
    "            canvas.begin_path()\n",
    "            canvas.arc(canvas.width/2 + dx, canvas.height/2 + dy, self.r1, 0, np.pi * 2)\n",
    "            canvas.arc(canvas.width/2 + dx2, canvas.height/2 + dy2, self.r2, 0, np.pi * 2)\n",
    "            canvas.fill()\n",
    "            \n",
    "    def draw_trace(self):\n",
    "        canvas = self.canvas[1]\n",
    "        \n",
    "        x = canvas.width/2 + self.l1*np.sin(self.alpha1) + self.l2*np.sin(self.alpha2)\n",
    "        y = canvas.height/2 + self.l1*np.cos(self.alpha1) + self.l2*np.cos(self.alpha2)\n",
    "\n",
    "        canvas.fill_style = \"#dddddd\"\n",
    "        canvas.fill_arc(x, y, 1, 0, np.pi * 2)\n",
    "        \n",
    "    def update(self):\n",
    "        zn = np.array([\n",
    "            self.alpha1,\n",
    "            self.alpha2,\n",
    "            self.p1,\n",
    "            self.p2\n",
    "        ], dtype=\"double\")\n",
    "        \n",
    "        zn_new = runge_kutta(zn, self.h, self.l1,self.l2, self.m1,self.m2, self.g)\n",
    "        \n",
    "        self.alpha1 = zn_new[0] % (2*np.pi)\n",
    "        self.alpha2 = zn_new[1] % (2*np.pi)\n",
    "        self.p1 = zn_new[2]\n",
    "        self.p2 = zn_new[3]\n",
    "        "
   ]
  },
  {
   "cell_type": "markdown",
   "metadata": {},
   "source": [
    "### Animation thread class"
   ]
  },
  {
   "cell_type": "code",
   "execution_count": 5,
   "metadata": {},
   "outputs": [],
   "source": [
    "class DoublePendulumThread(Thread):\n",
    "    def __init__(self, double_pendulum):\n",
    "        self.dp = double_pendulum\n",
    "        self.running = True\n",
    "        super(DoublePendulumThread, self).__init__()\n",
    "        self.dp.draw_background()\n",
    "    \n",
    "    def stop(self):\n",
    "        self.running = False\n",
    "        \n",
    "    def run(self):\n",
    "        while self.running:\n",
    "            self.dp.draw_trace()\n",
    "            self.dp.draw_pendulum()\n",
    "            self.dp.update()\n",
    "            sleep(0.01)"
   ]
  },
  {
   "cell_type": "markdown",
   "metadata": {},
   "source": [
    "### Handling clicking on animation"
   ]
  },
  {
   "cell_type": "code",
   "execution_count": 6,
   "metadata": {},
   "outputs": [],
   "source": [
    "def handle_mouse_down(x, y):\n",
    "    global dpt\n",
    "    if dpt.running:\n",
    "        dpt.stop()\n",
    "    else:\n",
    "        dpt = DoublePendulumThread(dp2)\n",
    "        dpt.start()"
   ]
  },
  {
   "cell_type": "markdown",
   "metadata": {},
   "source": [
    "### Standard parameters"
   ]
  },
  {
   "cell_type": "code",
   "execution_count": 7,
   "metadata": {},
   "outputs": [],
   "source": [
    "l1 = 100 # m\n",
    "l2 = 160 # m\n",
    "m1 = 5   # kg\n",
    "m2 = 10   # kg\n",
    "alpha1 = np.pi/2 # rad\n",
    "alpha2 = np.pi/3 # rad\n",
    "p1 = 0   # kg*m/s\n",
    "p2 = 0   # kg*m/s\n",
    "g = 9.81 # m/s^2\n",
    "h = 0.1"
   ]
  },
  {
   "cell_type": "markdown",
   "metadata": {},
   "source": [
    "### Selecting parameters"
   ]
  },
  {
   "cell_type": "code",
   "execution_count": 8,
   "metadata": {},
   "outputs": [
    {
     "data": {
      "application/vnd.jupyter.widget-view+json": {
       "model_id": "b59703a223d24caf922d3faf4bf79e6a",
       "version_major": 2,
       "version_minor": 0
      },
      "text/plain": [
       "interactive(children=(IntSlider(value=100, description='length_1', max=180, min=10, step=10), IntSlider(value=…"
      ]
     },
     "metadata": {},
     "output_type": "display_data"
    },
    {
     "data": {
      "application/vnd.jupyter.widget-view+json": {
       "model_id": "432f5bf002184163b2cdf07808942f08",
       "version_major": 2,
       "version_minor": 0
      },
      "text/plain": [
       "MultiCanvas(height=800, width=1000)"
      ]
     },
     "metadata": {},
     "output_type": "display_data"
    }
   ],
   "source": [
    "canvas = MultiCanvas(3, width=1000, height=800)\n",
    "dp = DoublePendulum(canvas, l1,l2, m1,m2, alpha1,alpha2, p1,p2, g,h)\n",
    "dp.draw_background()\n",
    "\n",
    "@interact(\n",
    "    length_1 = IntSlider(min=10, max=180, step=10, value=l1),\n",
    "    length_2 = IntSlider(min=10, max=180, step=10, value=l2),\n",
    "    mass_1 = FloatSlider(min=0.1, max=30.01, step=0.1, value=m1),\n",
    "    mass_2 = FloatSlider(min=0.1, max=30.01, step=0.1, value=m2),\n",
    "    alpha_1 = FloatSlider(min=0, max=2*np.pi, step=0.01, value=alpha1),\n",
    "    alpha_2 = FloatSlider(min=0, max=2*np.pi, step=0.01, value=alpha2),\n",
    "    momentum_1 = IntSlider(min=0, max=100, step=1, value=p1),\n",
    "    momentum_2 = IntSlider(min=0, max=100, step=1, value=p2),\n",
    "    gravity = FloatSlider(min=-30, max=30, step=0.01, value=g),\n",
    "    h_time = FloatSlider(min=0.01, max=1, step=0.01, value=h)\n",
    ")\n",
    "def set_params(length_1,length_2, mass_1,mass_2, alpha_1,alpha_2, momentum_1,momentum_2, gravity, h_time):\n",
    "    global l1, l2, m1, m2, alpha1, alpha2, p1, p2, g, h, dp\n",
    "    l1 = length_1\n",
    "    l2 = length_2\n",
    "    m1 = mass_1\n",
    "    m2 = mass_2\n",
    "    alpha1 = alpha_1\n",
    "    alpha2 = alpha_2\n",
    "    p1 = momentum_1\n",
    "    p2 = momentum_2\n",
    "    g = gravity\n",
    "    h = h_time\n",
    "    \n",
    "    dp.set_params(length_1,length_2, mass_1,mass_2, alpha_1,alpha_2, momentum_1,momentum_2, gravity,h_time)\n",
    "    dp.draw_pendulum()\n",
    "    \n",
    "canvas"
   ]
  },
  {
   "cell_type": "markdown",
   "metadata": {},
   "source": [
    "### Simulation\n",
    "To start simulation run the cell below.  \n",
    "To stop or resume it click on the animation."
   ]
  },
  {
   "cell_type": "code",
   "execution_count": 9,
   "metadata": {
    "scrolled": false
   },
   "outputs": [],
   "source": [
    "canvas[1].clear()\n",
    "canvas[2].on_mouse_down(handle_mouse_down)\n",
    "\n",
    "dp2 = DoublePendulum(canvas, l1,l2, m1,m2, alpha1,alpha2, p1,p2, g,h)\n",
    "\n",
    "# stop prev thread\n",
    "try:\n",
    "    dpt\n",
    "except NameError:\n",
    "    pass\n",
    "else:\n",
    "    dpt.stop()\n",
    "    del dpt\n",
    "\n",
    "dpt = DoublePendulumThread(dp2)\n",
    "dpt.start()"
   ]
  },
  {
   "cell_type": "markdown",
   "metadata": {},
   "source": [
    "### Stopping simulation\n",
    "Simulation can be stopped by clicking on the animation or by running the cell below"
   ]
  },
  {
   "cell_type": "code",
   "execution_count": 10,
   "metadata": {},
   "outputs": [],
   "source": [
    "# stop by running this cell\n",
    "# you can also pause by clicking on canvas\n",
    "dpt.stop()"
   ]
  }
 ],
 "metadata": {
  "kernelspec": {
   "display_name": "Python 3",
   "language": "python",
   "name": "python3"
  },
  "language_info": {
   "codemirror_mode": {
    "name": "ipython",
    "version": 3
   },
   "file_extension": ".py",
   "mimetype": "text/x-python",
   "name": "python",
   "nbconvert_exporter": "python",
   "pygments_lexer": "ipython3",
   "version": "3.7.4"
  },
  "widgets": {
   "application/vnd.jupyter.widget-state+json": {
    "state": {
     "0c9b1e4bb45c4797a8a94d9283a43ecc": {
      "model_module": "@jupyter-widgets/base",
      "model_module_version": "1.2.0",
      "model_name": "LayoutModel",
      "state": {}
     },
     "0db43a16083e4d11948ff70a52ddff8d": {
      "model_module": "@jupyter-widgets/controls",
      "model_module_version": "1.5.0",
      "model_name": "SliderStyleModel",
      "state": {
       "description_width": ""
      }
     },
     "0f4bdf65dd6a418a8a9a09b83dd9f28e": {
      "model_module": "@jupyter-widgets/controls",
      "model_module_version": "1.5.0",
      "model_name": "VBoxModel",
      "state": {
       "_dom_classes": [
        "widget-interact"
       ],
       "children": [
        "IPY_MODEL_eb342e93df06462885c0331e47de973d",
        "IPY_MODEL_aa32023e9127443f839d50aaf6b5427b",
        "IPY_MODEL_91b133ef7d0e45b9a48e261a49a69833",
        "IPY_MODEL_4a04a78b6f37445ba98fc3710457079b",
        "IPY_MODEL_75ab57c6de1e442e86cb717b83671ace",
        "IPY_MODEL_de0b8d1d20374b7c93bfb2db3d04650f",
        "IPY_MODEL_dc3a3ce39d564bb5b6a0204620e557dc",
        "IPY_MODEL_e7f380da335b41938d729cba1acd3bc8",
        "IPY_MODEL_4990fa0366374fc6b36e452dd8052a2b",
        "IPY_MODEL_90a3da82977449f3a61e1e03ab0b1ece",
        "IPY_MODEL_3edba18d53564e5ba986e9826fb4da62"
       ],
       "layout": "IPY_MODEL_b0fbe820a3814b02a406eca062f75c27"
      }
     },
     "10f2626651b24d43b45df03624537317": {
      "model_module": "@jupyter-widgets/controls",
      "model_module_version": "1.5.0",
      "model_name": "FloatSliderModel",
      "state": {
       "description": "h_time",
       "layout": "IPY_MODEL_270d9f2912ad47e1b7437d22981e9736",
       "max": 1,
       "min": 0.01,
       "step": 0.01,
       "style": "IPY_MODEL_83c2b80712074ea5a3be8c81330333a4",
       "value": 0.1
      }
     },
     "12bc2e5ee7c5466f8eb5fb0a9da0d398": {
      "model_module": "@jupyter-widgets/controls",
      "model_module_version": "1.5.0",
      "model_name": "IntSliderModel",
      "state": {
       "description": "length_1",
       "layout": "IPY_MODEL_6026a0c799e44bd1907fc0b536ffa416",
       "max": 180,
       "min": 10,
       "step": 10,
       "style": "IPY_MODEL_506cc051ce0f43c683e40e87cd5bc9dd",
       "value": 100
      }
     },
     "140f96dc522f4000be73a89f5e338873": {
      "model_module": "@jupyter-widgets/base",
      "model_module_version": "1.2.0",
      "model_name": "LayoutModel",
      "state": {}
     },
     "1b58e23de31a4c08934ecf7d7154e013": {
      "model_module": "ipycanvas",
      "model_module_version": "^0.4.3",
      "model_name": "CanvasModel",
      "state": {
       "_model_module_version": "^0.4.3",
       "_view_module_version": "^0.4.3",
       "height": 800,
       "layout": "IPY_MODEL_760f452b189e46f6ba6fb676c665248c",
       "width": 1000
      }
     },
     "1d90d47134b64bde9967bd976729276a": {
      "model_module": "@jupyter-widgets/base",
      "model_module_version": "1.2.0",
      "model_name": "LayoutModel",
      "state": {}
     },
     "1da7f52cc4b345d691453f1144c665ab": {
      "model_module": "@jupyter-widgets/controls",
      "model_module_version": "1.5.0",
      "model_name": "FloatSliderModel",
      "state": {
       "description": "mass_1",
       "layout": "IPY_MODEL_edaa8f85e66a4d10b44e507a64e03876",
       "max": 30.01,
       "min": 0.1,
       "step": 0.1,
       "style": "IPY_MODEL_c6c6dc5665ff4d6fa998d28e8f2dab98",
       "value": 5
      }
     },
     "270d9f2912ad47e1b7437d22981e9736": {
      "model_module": "@jupyter-widgets/base",
      "model_module_version": "1.2.0",
      "model_name": "LayoutModel",
      "state": {}
     },
     "276c8ba26de24160830bba8b1199ee01": {
      "model_module": "@jupyter-widgets/output",
      "model_module_version": "1.0.0",
      "model_name": "OutputModel",
      "state": {
       "layout": "IPY_MODEL_96b18194ef3943baa553f2552f8db542"
      }
     },
     "276f9979127048cc92ec8ccda7ce6410": {
      "model_module": "@jupyter-widgets/controls",
      "model_module_version": "1.5.0",
      "model_name": "SliderStyleModel",
      "state": {
       "description_width": ""
      }
     },
     "2bfcb7095f7544abb2f7d18b928843e1": {
      "model_module": "@jupyter-widgets/controls",
      "model_module_version": "1.5.0",
      "model_name": "VBoxModel",
      "state": {
       "_dom_classes": [
        "widget-interact"
       ],
       "children": [
        "IPY_MODEL_12bc2e5ee7c5466f8eb5fb0a9da0d398",
        "IPY_MODEL_9e448b6335344a2f9f4b289da6c0234b",
        "IPY_MODEL_1da7f52cc4b345d691453f1144c665ab",
        "IPY_MODEL_6c5d2ff380134df8a268e0ba834d171e",
        "IPY_MODEL_6c27b434f1d3465da3ab4cdcaf9f0e8d",
        "IPY_MODEL_dd04a2d2e2f240059c873f3a4b527c1d",
        "IPY_MODEL_a9ad35f962654c9c8dbb3aee209b5519",
        "IPY_MODEL_2d7241163c0449d09a2e985db1e8de8b",
        "IPY_MODEL_6cde99b5a27146d3a3a848faf4212d77",
        "IPY_MODEL_10f2626651b24d43b45df03624537317",
        "IPY_MODEL_276c8ba26de24160830bba8b1199ee01"
       ],
       "layout": "IPY_MODEL_54f0e1e0db774e7a8fd9e5e8e6a8842a"
      }
     },
     "2c062b8981974758a6d20efa2514749d": {
      "model_module": "@jupyter-widgets/controls",
      "model_module_version": "1.5.0",
      "model_name": "SliderStyleModel",
      "state": {
       "description_width": ""
      }
     },
     "2d7241163c0449d09a2e985db1e8de8b": {
      "model_module": "@jupyter-widgets/controls",
      "model_module_version": "1.5.0",
      "model_name": "IntSliderModel",
      "state": {
       "description": "momentum_2",
       "layout": "IPY_MODEL_c0ad6315f8364b81b1de9f1e04739bdf",
       "style": "IPY_MODEL_0db43a16083e4d11948ff70a52ddff8d"
      }
     },
     "33f46c94b9b044dc86b21680f81d1221": {
      "model_module": "ipycanvas",
      "model_module_version": "^0.4.3",
      "model_name": "CanvasModel",
      "state": {
       "_model_module_version": "^0.4.3",
       "_view_module_version": "^0.4.3",
       "height": 800,
       "layout": "IPY_MODEL_cfc2c1b006da4869b9da6f9fcea0842d",
       "width": 1000
      }
     },
     "340408c860ee4ca6a6657e4e871ab640": {
      "model_module": "@jupyter-widgets/controls",
      "model_module_version": "1.5.0",
      "model_name": "SliderStyleModel",
      "state": {
       "description_width": ""
      }
     },
     "3b8e246fd2d94f5eb2671b29abf28f8c": {
      "model_module": "@jupyter-widgets/base",
      "model_module_version": "1.2.0",
      "model_name": "LayoutModel",
      "state": {}
     },
     "3edba18d53564e5ba986e9826fb4da62": {
      "model_module": "@jupyter-widgets/output",
      "model_module_version": "1.0.0",
      "model_name": "OutputModel",
      "state": {
       "layout": "IPY_MODEL_3b8e246fd2d94f5eb2671b29abf28f8c"
      }
     },
     "3f6ff5d21d564019b009ad7d948cc0d4": {
      "model_module": "@jupyter-widgets/base",
      "model_module_version": "1.2.0",
      "model_name": "LayoutModel",
      "state": {}
     },
     "401231445c5945df8cf5c7e28eb9c374": {
      "model_module": "@jupyter-widgets/controls",
      "model_module_version": "1.5.0",
      "model_name": "SliderStyleModel",
      "state": {
       "description_width": ""
      }
     },
     "428531bdd075473c924e43b9c706bf43": {
      "model_module": "ipycanvas",
      "model_module_version": "^0.4.3",
      "model_name": "CanvasModel",
      "state": {
       "_model_module_version": "^0.4.3",
       "_view_module_version": "^0.4.3",
       "height": 800,
       "layout": "IPY_MODEL_e06d838b15704555b58dced7936aa3ef",
       "width": 1000
      }
     },
     "43e324624d604d0face910c9ef1d7104": {
      "model_module": "@jupyter-widgets/base",
      "model_module_version": "1.2.0",
      "model_name": "LayoutModel",
      "state": {}
     },
     "495ae278e776492da69d2ceca96b4263": {
      "model_module": "@jupyter-widgets/base",
      "model_module_version": "1.2.0",
      "model_name": "LayoutModel",
      "state": {}
     },
     "4990fa0366374fc6b36e452dd8052a2b": {
      "model_module": "@jupyter-widgets/controls",
      "model_module_version": "1.5.0",
      "model_name": "FloatSliderModel",
      "state": {
       "description": "gravity",
       "layout": "IPY_MODEL_0c9b1e4bb45c4797a8a94d9283a43ecc",
       "max": 30,
       "min": -30,
       "step": 0.01,
       "style": "IPY_MODEL_2c062b8981974758a6d20efa2514749d",
       "value": 9.81
      }
     },
     "4a04a78b6f37445ba98fc3710457079b": {
      "model_module": "@jupyter-widgets/controls",
      "model_module_version": "1.5.0",
      "model_name": "FloatSliderModel",
      "state": {
       "description": "mass_2",
       "layout": "IPY_MODEL_3f6ff5d21d564019b009ad7d948cc0d4",
       "max": 30.01,
       "min": 0.1,
       "step": 0.1,
       "style": "IPY_MODEL_9c0c7a095b7e43dcb7c5c532f0ec621c",
       "value": 10
      }
     },
     "4ae38e36282f489397b2fb3a0758c5bf": {
      "model_module": "@jupyter-widgets/controls",
      "model_module_version": "1.5.0",
      "model_name": "SliderStyleModel",
      "state": {
       "description_width": ""
      }
     },
     "4eff070a1bc64520af966a7df19d10ca": {
      "model_module": "@jupyter-widgets/base",
      "model_module_version": "1.2.0",
      "model_name": "LayoutModel",
      "state": {}
     },
     "506cc051ce0f43c683e40e87cd5bc9dd": {
      "model_module": "@jupyter-widgets/controls",
      "model_module_version": "1.5.0",
      "model_name": "SliderStyleModel",
      "state": {
       "description_width": ""
      }
     },
     "54f0e1e0db774e7a8fd9e5e8e6a8842a": {
      "model_module": "@jupyter-widgets/base",
      "model_module_version": "1.2.0",
      "model_name": "LayoutModel",
      "state": {}
     },
     "5778e04e2c184bc893d73b6217213409": {
      "model_module": "@jupyter-widgets/base",
      "model_module_version": "1.2.0",
      "model_name": "LayoutModel",
      "state": {}
     },
     "58d23a0317a140fbb14013962ddd755f": {
      "model_module": "@jupyter-widgets/base",
      "model_module_version": "1.2.0",
      "model_name": "LayoutModel",
      "state": {}
     },
     "5ada50cbde82492389de3f0696cd07c5": {
      "model_module": "@jupyter-widgets/controls",
      "model_module_version": "1.5.0",
      "model_name": "SliderStyleModel",
      "state": {
       "description_width": ""
      }
     },
     "6026a0c799e44bd1907fc0b536ffa416": {
      "model_module": "@jupyter-widgets/base",
      "model_module_version": "1.2.0",
      "model_name": "LayoutModel",
      "state": {}
     },
     "60db8a8539914a28a2cf7fd26c9c142e": {
      "model_module": "@jupyter-widgets/base",
      "model_module_version": "1.2.0",
      "model_name": "LayoutModel",
      "state": {}
     },
     "6502dddc98d947d396f8703ffda507f9": {
      "model_module": "ipycanvas",
      "model_module_version": "^0.4.3",
      "model_name": "MultiCanvasModel",
      "state": {
       "_canvases": [
        "IPY_MODEL_33f46c94b9b044dc86b21680f81d1221",
        "IPY_MODEL_c7b61bf5a5434706a172a232433160d5",
        "IPY_MODEL_1b58e23de31a4c08934ecf7d7154e013"
       ],
       "_model_module_version": "^0.4.3",
       "_view_module_version": "^0.4.3",
       "height": 800,
       "layout": "IPY_MODEL_fb0138ee59db4ddd953922816820b245",
       "width": 1000
      }
     },
     "6601272997634d98a36a662d8540f035": {
      "model_module": "@jupyter-widgets/controls",
      "model_module_version": "1.5.0",
      "model_name": "SliderStyleModel",
      "state": {
       "description_width": ""
      }
     },
     "6c27b434f1d3465da3ab4cdcaf9f0e8d": {
      "model_module": "@jupyter-widgets/controls",
      "model_module_version": "1.5.0",
      "model_name": "FloatSliderModel",
      "state": {
       "description": "alpha_1",
       "layout": "IPY_MODEL_a01081c9794b4f75a2f0face19cae96c",
       "max": 6.283185307179586,
       "step": 0.01,
       "style": "IPY_MODEL_e870aad46ee74d15ab434c85167a9f02",
       "value": 1.5707963267948966
      }
     },
     "6c5d2ff380134df8a268e0ba834d171e": {
      "model_module": "@jupyter-widgets/controls",
      "model_module_version": "1.5.0",
      "model_name": "FloatSliderModel",
      "state": {
       "description": "mass_2",
       "layout": "IPY_MODEL_5778e04e2c184bc893d73b6217213409",
       "max": 30.01,
       "min": 0.1,
       "step": 0.1,
       "style": "IPY_MODEL_401231445c5945df8cf5c7e28eb9c374",
       "value": 10
      }
     },
     "6cde99b5a27146d3a3a848faf4212d77": {
      "model_module": "@jupyter-widgets/controls",
      "model_module_version": "1.5.0",
      "model_name": "FloatSliderModel",
      "state": {
       "description": "gravity",
       "layout": "IPY_MODEL_d4eb1e3f56824b57abd4433702f58838",
       "max": 30,
       "min": -30,
       "step": 0.01,
       "style": "IPY_MODEL_5ada50cbde82492389de3f0696cd07c5",
       "value": 9.81
      }
     },
     "75ab57c6de1e442e86cb717b83671ace": {
      "model_module": "@jupyter-widgets/controls",
      "model_module_version": "1.5.0",
      "model_name": "FloatSliderModel",
      "state": {
       "description": "alpha_1",
       "layout": "IPY_MODEL_4eff070a1bc64520af966a7df19d10ca",
       "max": 6.283185307179586,
       "step": 0.01,
       "style": "IPY_MODEL_6601272997634d98a36a662d8540f035",
       "value": 1.5707963267948966
      }
     },
     "760f452b189e46f6ba6fb676c665248c": {
      "model_module": "@jupyter-widgets/base",
      "model_module_version": "1.2.0",
      "model_name": "LayoutModel",
      "state": {}
     },
     "77928ceec7554f688737c70321d5b907": {
      "model_module": "@jupyter-widgets/base",
      "model_module_version": "1.2.0",
      "model_name": "LayoutModel",
      "state": {}
     },
     "83c2b80712074ea5a3be8c81330333a4": {
      "model_module": "@jupyter-widgets/controls",
      "model_module_version": "1.5.0",
      "model_name": "SliderStyleModel",
      "state": {
       "description_width": ""
      }
     },
     "868a605129364c68a8e2f7fb0876091d": {
      "model_module": "@jupyter-widgets/controls",
      "model_module_version": "1.5.0",
      "model_name": "SliderStyleModel",
      "state": {
       "description_width": ""
      }
     },
     "8edd85d42f134c97bc49ce83138f7d15": {
      "model_module": "@jupyter-widgets/base",
      "model_module_version": "1.2.0",
      "model_name": "LayoutModel",
      "state": {}
     },
     "90a3da82977449f3a61e1e03ab0b1ece": {
      "model_module": "@jupyter-widgets/controls",
      "model_module_version": "1.5.0",
      "model_name": "FloatSliderModel",
      "state": {
       "description": "h_time",
       "layout": "IPY_MODEL_58d23a0317a140fbb14013962ddd755f",
       "max": 1,
       "min": 0.01,
       "step": 0.01,
       "style": "IPY_MODEL_fc23fb8af39a4472a06488640c2e8903",
       "value": 0.1
      }
     },
     "91a49e0c071e4ae7ab9f6267ea6017a5": {
      "model_module": "@jupyter-widgets/base",
      "model_module_version": "1.2.0",
      "model_name": "LayoutModel",
      "state": {}
     },
     "91b133ef7d0e45b9a48e261a49a69833": {
      "model_module": "@jupyter-widgets/controls",
      "model_module_version": "1.5.0",
      "model_name": "FloatSliderModel",
      "state": {
       "description": "mass_1",
       "layout": "IPY_MODEL_bf9bfb3731f04b8da577895a9fcb92ba",
       "max": 30.01,
       "min": 0.1,
       "step": 0.1,
       "style": "IPY_MODEL_eb107fcd542a41b9a9a80952a81e5857",
       "value": 5
      }
     },
     "96b18194ef3943baa553f2552f8db542": {
      "model_module": "@jupyter-widgets/base",
      "model_module_version": "1.2.0",
      "model_name": "LayoutModel",
      "state": {}
     },
     "9c0c7a095b7e43dcb7c5c532f0ec621c": {
      "model_module": "@jupyter-widgets/controls",
      "model_module_version": "1.5.0",
      "model_name": "SliderStyleModel",
      "state": {
       "description_width": ""
      }
     },
     "9e448b6335344a2f9f4b289da6c0234b": {
      "model_module": "@jupyter-widgets/controls",
      "model_module_version": "1.5.0",
      "model_name": "IntSliderModel",
      "state": {
       "description": "length_2",
       "layout": "IPY_MODEL_43e324624d604d0face910c9ef1d7104",
       "max": 180,
       "min": 10,
       "step": 10,
       "style": "IPY_MODEL_ba4742c5b215485aa073390b030df3c8",
       "value": 160
      }
     },
     "9eba425896c34b14a4833f1ee85a893a": {
      "model_module": "@jupyter-widgets/base",
      "model_module_version": "1.2.0",
      "model_name": "LayoutModel",
      "state": {}
     },
     "a01081c9794b4f75a2f0face19cae96c": {
      "model_module": "@jupyter-widgets/base",
      "model_module_version": "1.2.0",
      "model_name": "LayoutModel",
      "state": {}
     },
     "a9ad35f962654c9c8dbb3aee209b5519": {
      "model_module": "@jupyter-widgets/controls",
      "model_module_version": "1.5.0",
      "model_name": "IntSliderModel",
      "state": {
       "description": "momentum_1",
       "layout": "IPY_MODEL_f751090173f048e0b9412e86eac1f834",
       "style": "IPY_MODEL_276f9979127048cc92ec8ccda7ce6410"
      }
     },
     "aa32023e9127443f839d50aaf6b5427b": {
      "model_module": "@jupyter-widgets/controls",
      "model_module_version": "1.5.0",
      "model_name": "IntSliderModel",
      "state": {
       "description": "length_2",
       "layout": "IPY_MODEL_91a49e0c071e4ae7ab9f6267ea6017a5",
       "max": 180,
       "min": 10,
       "step": 10,
       "style": "IPY_MODEL_dcc6e2932ae94a37b34e6292666359f3",
       "value": 160
      }
     },
     "b0fbe820a3814b02a406eca062f75c27": {
      "model_module": "@jupyter-widgets/base",
      "model_module_version": "1.2.0",
      "model_name": "LayoutModel",
      "state": {}
     },
     "b7c69f46459a418ebb0854f2f28f3389": {
      "model_module": "@jupyter-widgets/base",
      "model_module_version": "1.2.0",
      "model_name": "LayoutModel",
      "state": {}
     },
     "ba4742c5b215485aa073390b030df3c8": {
      "model_module": "@jupyter-widgets/controls",
      "model_module_version": "1.5.0",
      "model_name": "SliderStyleModel",
      "state": {
       "description_width": ""
      }
     },
     "bf9bfb3731f04b8da577895a9fcb92ba": {
      "model_module": "@jupyter-widgets/base",
      "model_module_version": "1.2.0",
      "model_name": "LayoutModel",
      "state": {}
     },
     "c0ad6315f8364b81b1de9f1e04739bdf": {
      "model_module": "@jupyter-widgets/base",
      "model_module_version": "1.2.0",
      "model_name": "LayoutModel",
      "state": {}
     },
     "c6c6dc5665ff4d6fa998d28e8f2dab98": {
      "model_module": "@jupyter-widgets/controls",
      "model_module_version": "1.5.0",
      "model_name": "SliderStyleModel",
      "state": {
       "description_width": ""
      }
     },
     "c7b61bf5a5434706a172a232433160d5": {
      "model_module": "ipycanvas",
      "model_module_version": "^0.4.3",
      "model_name": "CanvasModel",
      "state": {
       "_model_module_version": "^0.4.3",
       "_view_module_version": "^0.4.3",
       "height": 800,
       "layout": "IPY_MODEL_9eba425896c34b14a4833f1ee85a893a",
       "width": 1000
      }
     },
     "c7cd2c9fcd924885a2bac5d8a05f1d47": {
      "model_module": "@jupyter-widgets/base",
      "model_module_version": "1.2.0",
      "model_name": "LayoutModel",
      "state": {}
     },
     "cfc2c1b006da4869b9da6f9fcea0842d": {
      "model_module": "@jupyter-widgets/base",
      "model_module_version": "1.2.0",
      "model_name": "LayoutModel",
      "state": {}
     },
     "d4c854d325fb48a580f0c198bec42f6c": {
      "model_module": "ipycanvas",
      "model_module_version": "^0.4.3",
      "model_name": "MultiCanvasModel",
      "state": {
       "_canvases": [
        "IPY_MODEL_f0ecaff2fd294446be1ee074a1a66880",
        "IPY_MODEL_428531bdd075473c924e43b9c706bf43",
        "IPY_MODEL_e76627871b29430bb5213fe400f5b10c"
       ],
       "_model_module_version": "^0.4.3",
       "_view_module_version": "^0.4.3",
       "height": 800,
       "layout": "IPY_MODEL_77928ceec7554f688737c70321d5b907",
       "width": 1000
      }
     },
     "d4eb1e3f56824b57abd4433702f58838": {
      "model_module": "@jupyter-widgets/base",
      "model_module_version": "1.2.0",
      "model_name": "LayoutModel",
      "state": {}
     },
     "dc1b61aebe9e4eb88a6585b1116b3dfd": {
      "model_module": "@jupyter-widgets/controls",
      "model_module_version": "1.5.0",
      "model_name": "SliderStyleModel",
      "state": {
       "description_width": ""
      }
     },
     "dc3a3ce39d564bb5b6a0204620e557dc": {
      "model_module": "@jupyter-widgets/controls",
      "model_module_version": "1.5.0",
      "model_name": "IntSliderModel",
      "state": {
       "description": "momentum_1",
       "layout": "IPY_MODEL_c7cd2c9fcd924885a2bac5d8a05f1d47",
       "style": "IPY_MODEL_fd22126f08544db79f036b00f7eab416"
      }
     },
     "dcc6e2932ae94a37b34e6292666359f3": {
      "model_module": "@jupyter-widgets/controls",
      "model_module_version": "1.5.0",
      "model_name": "SliderStyleModel",
      "state": {
       "description_width": ""
      }
     },
     "dd04a2d2e2f240059c873f3a4b527c1d": {
      "model_module": "@jupyter-widgets/controls",
      "model_module_version": "1.5.0",
      "model_name": "FloatSliderModel",
      "state": {
       "description": "alpha_2",
       "layout": "IPY_MODEL_60db8a8539914a28a2cf7fd26c9c142e",
       "max": 6.283185307179586,
       "step": 0.01,
       "style": "IPY_MODEL_340408c860ee4ca6a6657e4e871ab640",
       "value": 1.0471975511965976
      }
     },
     "de0b8d1d20374b7c93bfb2db3d04650f": {
      "model_module": "@jupyter-widgets/controls",
      "model_module_version": "1.5.0",
      "model_name": "FloatSliderModel",
      "state": {
       "description": "alpha_2",
       "layout": "IPY_MODEL_1d90d47134b64bde9967bd976729276a",
       "max": 6.283185307179586,
       "step": 0.01,
       "style": "IPY_MODEL_868a605129364c68a8e2f7fb0876091d",
       "value": 1.0471975511965976
      }
     },
     "e06d838b15704555b58dced7936aa3ef": {
      "model_module": "@jupyter-widgets/base",
      "model_module_version": "1.2.0",
      "model_name": "LayoutModel",
      "state": {}
     },
     "e76627871b29430bb5213fe400f5b10c": {
      "model_module": "ipycanvas",
      "model_module_version": "^0.4.3",
      "model_name": "CanvasModel",
      "state": {
       "_model_module_version": "^0.4.3",
       "_view_module_version": "^0.4.3",
       "height": 800,
       "layout": "IPY_MODEL_8edd85d42f134c97bc49ce83138f7d15",
       "width": 1000
      }
     },
     "e7f380da335b41938d729cba1acd3bc8": {
      "model_module": "@jupyter-widgets/controls",
      "model_module_version": "1.5.0",
      "model_name": "IntSliderModel",
      "state": {
       "description": "momentum_2",
       "layout": "IPY_MODEL_495ae278e776492da69d2ceca96b4263",
       "style": "IPY_MODEL_4ae38e36282f489397b2fb3a0758c5bf"
      }
     },
     "e870aad46ee74d15ab434c85167a9f02": {
      "model_module": "@jupyter-widgets/controls",
      "model_module_version": "1.5.0",
      "model_name": "SliderStyleModel",
      "state": {
       "description_width": ""
      }
     },
     "eb107fcd542a41b9a9a80952a81e5857": {
      "model_module": "@jupyter-widgets/controls",
      "model_module_version": "1.5.0",
      "model_name": "SliderStyleModel",
      "state": {
       "description_width": ""
      }
     },
     "eb342e93df06462885c0331e47de973d": {
      "model_module": "@jupyter-widgets/controls",
      "model_module_version": "1.5.0",
      "model_name": "IntSliderModel",
      "state": {
       "description": "length_1",
       "layout": "IPY_MODEL_140f96dc522f4000be73a89f5e338873",
       "max": 180,
       "min": 10,
       "step": 10,
       "style": "IPY_MODEL_dc1b61aebe9e4eb88a6585b1116b3dfd",
       "value": 100
      }
     },
     "edaa8f85e66a4d10b44e507a64e03876": {
      "model_module": "@jupyter-widgets/base",
      "model_module_version": "1.2.0",
      "model_name": "LayoutModel",
      "state": {}
     },
     "f0ecaff2fd294446be1ee074a1a66880": {
      "model_module": "ipycanvas",
      "model_module_version": "^0.4.3",
      "model_name": "CanvasModel",
      "state": {
       "_model_module_version": "^0.4.3",
       "_view_module_version": "^0.4.3",
       "height": 800,
       "layout": "IPY_MODEL_b7c69f46459a418ebb0854f2f28f3389",
       "width": 1000
      }
     },
     "f751090173f048e0b9412e86eac1f834": {
      "model_module": "@jupyter-widgets/base",
      "model_module_version": "1.2.0",
      "model_name": "LayoutModel",
      "state": {}
     },
     "fb0138ee59db4ddd953922816820b245": {
      "model_module": "@jupyter-widgets/base",
      "model_module_version": "1.2.0",
      "model_name": "LayoutModel",
      "state": {}
     },
     "fc23fb8af39a4472a06488640c2e8903": {
      "model_module": "@jupyter-widgets/controls",
      "model_module_version": "1.5.0",
      "model_name": "SliderStyleModel",
      "state": {
       "description_width": ""
      }
     },
     "fd22126f08544db79f036b00f7eab416": {
      "model_module": "@jupyter-widgets/controls",
      "model_module_version": "1.5.0",
      "model_name": "SliderStyleModel",
      "state": {
       "description_width": ""
      }
     }
    },
    "version_major": 2,
    "version_minor": 0
   }
  }
 },
 "nbformat": 4,
 "nbformat_minor": 4
}
